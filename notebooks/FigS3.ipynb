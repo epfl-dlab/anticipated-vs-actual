{
 "cells": [
  {
   "cell_type": "code",
   "execution_count": 1,
   "metadata": {},
   "outputs": [],
   "source": [
    "import pandas as pd\n",
    "import json\n",
    "import  tarfile\n",
    "import bz2\n",
    "import os\n",
    "from nltk.tokenize import TweetTokenizer\n",
    "import matplotlib.pyplot as plt\n",
    "import numpy as np\n",
    "import seaborn as sns\n",
    "from collections import Counter\n",
    "from sklearn.feature_extraction.text import CountVectorizer\n",
    "from nltk import agreement\n",
    "import statsmodels.formula.api as smf\n",
    "sns.set_style('whitegrid')\n",
    "%matplotlib inline\n",
    "import random\n",
    "import math\n",
    "\n",
    "import multiprocessing\n",
    "import json\n",
    "import os\n",
    "import re\n",
    "import datetime\n",
    "import time\n",
    "import pprint\n",
    "from datetime import datetime\n",
    "from datetime import timedelta\n",
    "import pytz\n",
    "import glob\n",
    "from random import sample\n",
    "import pickle\n",
    "from datetime import date, timedelta"
   ]
  },
  {
   "cell_type": "code",
   "execution_count": 2,
   "metadata": {},
   "outputs": [],
   "source": [
    "files = []\n",
    "for i in range(40):\n",
    "    files.append(\"derived_dataset_threads/lengths_derived_dataset_batch_\"+str(i+1)+\".parquet\")"
   ]
  },
  {
   "cell_type": "code",
   "execution_count": 3,
   "metadata": {},
   "outputs": [],
   "source": [
    "allowed_languages = ['ar',\n",
    " 'nl',\n",
    " 'en',\n",
    " 'et',\n",
    " 'fr',\n",
    " 'de',\n",
    " 'ht',\n",
    " 'hi',\n",
    " 'in',\n",
    " 'it',\n",
    " 'fa',\n",
    " 'pl',\n",
    " 'pt',\n",
    " 'ru',\n",
    " 'es',\n",
    " 'sv',\n",
    " 'tl',\n",
    " 'th',\n",
    " 'tr',\n",
    " 'ur']\n",
    "\n",
    "allowed_sources = ['<a href=\"http://twitter.com/download/iphone\" rel=\"nofollow\">Twitter for iPhone</a>',\n",
    "    '<a href=\"http://twitter.com/download/android\" rel=\"nofollow\">Twitter for Android</a>',\n",
    "    '<a href=\"http://twitter.com/#!/download/ipad\" rel=\"nofollow\">Twitter for iPad</a>',\n",
    "    '<a href=\"https://mobile.twitter.com\" rel=\"nofollow\">Mobile Web (M2)</a>',\n",
    "    '<a href=\"http://twitter.com\" rel=\"nofollow\">Twitter Web Client</a>']"
   ]
  },
  {
   "cell_type": "code",
   "execution_count": 4,
   "metadata": {},
   "outputs": [],
   "source": [
    "def process_batch(file):\n",
    "    df = pd.read_parquet(file)\n",
    "    df = df.loc[df['lang'].isin(allowed_languages)]\n",
    "    df = df.loc[df['source'].isin(allowed_sources)]\n",
    "    \n",
    "    df['all_lang'] = ['1']*len(df)\n",
    "    df_stats = df.groupby('all_lang').apply(lambda x: pd.Series({\n",
    "            'histogram_thread_lengths_2017': x.loc[(x['created_at'].dt.year == 2017) & (x['created_at'].dt.month < 11)]['n'].value_counts(dropna = False),\n",
    "            'histogram_thread_lengths_2019': x.loc[(x['created_at'].dt.year == 2019) & (x['created_at'].dt.month < 11)]['n'].value_counts(dropna = False),\n",
    "            'histogram_thread_positions_2017': x.loc[(x['created_at'].dt.year == 2017) & (x['created_at'].dt.month < 11)]['m'].value_counts(),\n",
    "            'histogram_thread_positions_2019': x.loc[(x['created_at'].dt.year == 2019) & (x['created_at'].dt.month < 11)]['m'].value_counts()\n",
    "            }))\n",
    "    \n",
    "    return df_stats"
   ]
  },
  {
   "cell_type": "code",
   "execution_count": 5,
   "metadata": {},
   "outputs": [
    {
     "name": "stdout",
     "output_type": "stream",
     "text": [
      "Parallelized on number of cores: 48\n",
      "Elapsed time: 00:08:51\n"
     ]
    }
   ],
   "source": [
    "p = multiprocessing.Pool(10)\n",
    "print('Parallelized on number of cores:',multiprocessing.cpu_count())\n",
    "\n",
    "start = time.time()\n",
    "\n",
    "outputs = p.map(process_batch, files)\n",
    "\n",
    "p.close()\n",
    "p.join()\n",
    "\n",
    "end = time.time()\n",
    "elapsed = end - start\n",
    "\n",
    "print('Elapsed time:',time.strftime(\"%H:%M:%S\", time.gmtime(elapsed)))"
   ]
  },
  {
   "cell_type": "code",
   "execution_count": 27,
   "metadata": {},
   "outputs": [
    {
     "data": {
      "text/html": [
       "<div>\n",
       "<style scoped>\n",
       "    .dataframe tbody tr th:only-of-type {\n",
       "        vertical-align: middle;\n",
       "    }\n",
       "\n",
       "    .dataframe tbody tr th {\n",
       "        vertical-align: top;\n",
       "    }\n",
       "\n",
       "    .dataframe thead th {\n",
       "        text-align: right;\n",
       "    }\n",
       "</style>\n",
       "<table border=\"1\" class=\"dataframe\">\n",
       "  <thead>\n",
       "    <tr style=\"text-align: right;\">\n",
       "      <th></th>\n",
       "      <th>histogram_thread_lengths_2017</th>\n",
       "      <th>histogram_thread_lengths_2019</th>\n",
       "      <th>histogram_thread_positions_2017</th>\n",
       "      <th>histogram_thread_positions_2019</th>\n",
       "    </tr>\n",
       "    <tr>\n",
       "      <th>all_lang</th>\n",
       "      <th></th>\n",
       "      <th></th>\n",
       "      <th></th>\n",
       "      <th></th>\n",
       "    </tr>\n",
       "  </thead>\n",
       "  <tbody>\n",
       "    <tr>\n",
       "      <th>1</th>\n",
       "      <td>NaN     13019831\n",
       "2.0         2406\n",
       "10.0        ...</td>\n",
       "      <td>Series([], Name: n, dtype: int64)</td>\n",
       "      <td>1.0      2029\n",
       "2.0       940\n",
       "10.0      389\n",
       "3.0 ...</td>\n",
       "      <td>Series([], Name: m, dtype: int64)</td>\n",
       "    </tr>\n",
       "  </tbody>\n",
       "</table>\n",
       "</div>"
      ],
      "text/plain": [
       "                              histogram_thread_lengths_2017  \\\n",
       "all_lang                                                      \n",
       "1         NaN     13019831\n",
       "2.0         2406\n",
       "10.0        ...   \n",
       "\n",
       "              histogram_thread_lengths_2019  \\\n",
       "all_lang                                      \n",
       "1         Series([], Name: n, dtype: int64)   \n",
       "\n",
       "                            histogram_thread_positions_2017  \\\n",
       "all_lang                                                      \n",
       "1         1.0      2029\n",
       "2.0       940\n",
       "10.0      389\n",
       "3.0 ...   \n",
       "\n",
       "            histogram_thread_positions_2019  \n",
       "all_lang                                     \n",
       "1         Series([], Name: m, dtype: int64)  "
      ]
     },
     "execution_count": 27,
     "metadata": {},
     "output_type": "execute_result"
    }
   ],
   "source": [
    "outputs[0]"
   ]
  },
  {
   "cell_type": "code",
   "execution_count": 28,
   "metadata": {},
   "outputs": [],
   "source": [
    "hist_before_regular = []\n",
    "hist_after_regular = []\n",
    "\n",
    "\n",
    "for cnt,item in enumerate(outputs):\n",
    "    if cnt==0:\n",
    "        hist_2017 = item.loc['1']['histogram_thread_lengths_2017']\n",
    "        hist_2019 = item.loc['1']['histogram_thread_lengths_2019']\n",
    "        pos_hist_2017 = item.loc['1']['histogram_thread_positions_2017']\n",
    "        pos_hist_2019 = item.loc['1']['histogram_thread_positions_2019']\n",
    "    else:\n",
    "        hist_2017 = hist_2017.add(item.loc['1']['histogram_thread_lengths_2017'],fill_value=0)\n",
    "        hist_2019 = hist_2019.add(item.loc['1']['histogram_thread_lengths_2019'],fill_value=0)\n",
    "        pos_hist_2017 = pos_hist_2017.add(item.loc['1']['histogram_thread_positions_2017'],fill_value=0)\n",
    "        pos_hist_2019 = pos_hist_2019.add(item.loc['1']['histogram_thread_positions_2019'],fill_value=0)\n",
    "    "
   ]
  },
  {
   "cell_type": "code",
   "execution_count": 29,
   "metadata": {},
   "outputs": [],
   "source": [
    "h1 = np.array([hist_2017.values[-1]] + [hist_2017[i] if i in hist_2017.index else 0 for i in range(2,50)])\n",
    "h2 = np.array([hist_2019.values[-1]] + [hist_2019[i] if i in hist_2019.index else 0 for i in range(2,50)])"
   ]
  },
  {
   "cell_type": "code",
   "execution_count": 32,
   "metadata": {},
   "outputs": [
    {
     "data": {
      "text/plain": [
       "Text(0, 0.5, 'number of observed paginated tweets')"
      ]
     },
     "execution_count": 32,
     "metadata": {},
     "output_type": "execute_result"
    },
    {
     "data": {
      "image/png": "[encoded data removed]",
      "text/plain": [
       "<Figure size 432x288 with 1 Axes>"
      ]
     },
     "metadata": {
      "needs_background": "light"
     },
     "output_type": "display_data"
    }
   ],
   "source": [
    "#number log\n",
    "\n",
    "width = 0.5\n",
    "plt.bar(np.array(range(1,50)) + 0.5*width,h1, width, color = 'tab:red', label = 'Jan-Oct 2017')\n",
    "plt.bar(np.array(range(1,50)) - 0.5*width,h2, width, color = 'tab:blue', label = 'Jan-Oct 2019')\n",
    "\n",
    "plt.xticks([1]+list(range(10,51,10)));\n",
    "\n",
    "#plt.xlim([0,30])\n",
    "plt.yscale('log')\n",
    "\n",
    "#plt.ylim([0.001,0.9])\n",
    "\n",
    "plt.legend()\n",
    "\n",
    "plt.xlabel('thread length')\n",
    "\n",
    "plt.ylabel('number of observed paginated tweets')"
   ]
  },
  {
   "cell_type": "markdown",
   "metadata": {},
   "source": [
    "## Estimating number of threads of length k"
   ]
  },
  {
   "cell_type": "code",
   "execution_count": 34,
   "metadata": {},
   "outputs": [
    {
     "data": {
      "text/plain": [
       "array([1.        , 0.5       , 0.33333333, 0.25      , 0.2       ,\n",
       "       0.16666667, 0.14285714, 0.125     , 0.11111111, 0.1       ,\n",
       "       0.09090909, 0.08333333, 0.07692308, 0.07142857, 0.06666667,\n",
       "       0.0625    , 0.05882353, 0.05555556, 0.05263158, 0.05      ,\n",
       "       0.04761905, 0.04545455, 0.04347826, 0.04166667, 0.04      ,\n",
       "       0.03846154, 0.03703704, 0.03571429, 0.03448276, 0.03333333,\n",
       "       0.03225806, 0.03125   , 0.03030303, 0.02941176, 0.02857143,\n",
       "       0.02777778, 0.02702703, 0.02631579, 0.02564103, 0.025     ,\n",
       "       0.02439024, 0.02380952, 0.02325581, 0.02272727, 0.02222222,\n",
       "       0.02173913, 0.0212766 , 0.02083333, 0.02040816])"
      ]
     },
     "execution_count": 34,
     "metadata": {},
     "output_type": "execute_result"
    }
   ],
   "source": [
    "1/np.array(range(1,50))"
   ]
  },
  {
   "cell_type": "code",
   "execution_count": 49,
   "metadata": {},
   "outputs": [
    {
     "data": {
      "text/plain": [
       "Text(0, 0.5, 'number of observed paginated tweets')"
      ]
     },
     "execution_count": 49,
     "metadata": {},
     "output_type": "execute_result"
    },
    {
     "data": {
      "image/png": "[encoded data removed]",
      "text/plain": [
       "<Figure size 432x288 with 1 Axes>"
      ]
     },
     "metadata": {
      "needs_background": "light"
     },
     "output_type": "display_data"
    }
   ],
   "source": [
    "#number log\n",
    "\n",
    "width = 0.5\n",
    "plt.bar(np.array(range(1,50)) + 0.5*width,1/np.array(range(1,50))*h1, width, color = 'tab:red', label = 'Jan-Oct 2017')\n",
    "plt.bar(np.array(range(1,50)) - 0.5*width,1/np.array(range(1,50))*h2, width, color = 'tab:blue', label = 'Jan-Oct 2019')\n",
    "\n",
    "plt.xticks([1]+list(range(10,51,10)));\n",
    "\n",
    "plt.xlim([0,30])\n",
    "plt.yscale('log')\n",
    "\n",
    "plt.ylim([1,1000000000])\n",
    "\n",
    "plt.legend()\n",
    "\n",
    "plt.xlabel('thread length')\n",
    "\n",
    "plt.ylabel('number of observed paginated tweets')"
   ]
  },
  {
   "cell_type": "code",
   "execution_count": 134,
   "metadata": {},
   "outputs": [
    {
     "data": {
      "image/png": "[encoded data removed]",
      "text/plain": [
       "<Figure size 432x288 with 1 Axes>"
      ]
     },
     "metadata": {
      "needs_background": "light"
     },
     "output_type": "display_data"
    }
   ],
   "source": [
    "#number log\n",
    "\n",
    "fig, axes = plt.subplots(1,1, figsize= (6,4))\n",
    "\n",
    "width = 0.4\n",
    "plt.bar(np.array(range(1,50)) + 0.5*width,100*1/np.array(range(1,50))*h1, width, color = 'tab:red', label = 'Jan-Oct 2017')\n",
    "plt.bar(np.array(range(1,50)) - 0.5*width,100*1/np.array(range(1,50))*h2, width, color = 'tab:blue', label = 'Jan-Oct 2019')\n",
    "\n",
    "plt.xticks(list(range(1,10)));\n",
    "\n",
    "plt.xlim([0,30.5])\n",
    "plt.yscale('log', basey=10)\n",
    "\n",
    "plt.ylim([100,100000000000])\n",
    "\n",
    "plt.xlim([0,9.5])\n",
    "\n",
    "plt.legend()\n",
    "\n",
    "plt.xlabel('thread length k')\n",
    "\n",
    "\n",
    "plt.title('Estimated number of threads of length k')\n",
    "\n",
    "plt.gca().xaxis.grid(False) \n",
    "#plt.yticks([np.exp2(i) for i in range(7,34)]);\n",
    "\n"
   ]
  },
  {
   "cell_type": "code",
   "execution_count": 156,
   "metadata": {},
   "outputs": [
    {
     "data": {
      "image/png": "[encoded data removed]",
      "text/plain": [
       "<Figure size 432x288 with 1 Axes>"
      ]
     },
     "metadata": {
      "needs_background": "light"
     },
     "output_type": "display_data"
    }
   ],
   "source": [
    "#number log\n",
    "\n",
    "fig, axes = plt.subplots(1,1, figsize= (6,4))\n",
    "\n",
    "width = 0.4\n",
    "plt.bar(np.array(range(1,50)) - 0.5*width,(100*1/np.array(range(1,50))*h1)/sum(100*1/np.array(range(1,50))*h1) , width, color = 'tab:red', label = 'Jan-Oct 2017')\n",
    "plt.bar(np.array(range(1,50)) + 0.5*width,(100*1/np.array(range(1,50))*h2)/sum(100*1/np.array(range(1,50))*h2) , width, color = 'tab:blue', label = 'Jan-Oct 2019')\n",
    "\n",
    "plt.xticks(list(range(1,10)));\n",
    "\n",
    "plt.xlim([0.5,9.5])\n",
    "plt.yscale('log', basey=10)\n",
    "\n",
    "plt.ylim([0.0000001,2])\n",
    "\n",
    "plt.legend()\n",
    "\n",
    "plt.xlabel('thread length k')\n",
    "\n",
    "\n",
    "plt.title('Estimated distribution of thread lengths')\n",
    "plt.ylabel('Probability')\n",
    "\n",
    "plt.gca().xaxis.grid(False) \n",
    "#plt.yticks([np.exp2(i) for i in range(7,34)]);\n",
    "\n",
    "plt.savefig(\"fig_threads.pdf\", bbox_inches='tight')"
   ]
  },
  {
   "cell_type": "code",
   "execution_count": 155,
   "metadata": {},
   "outputs": [],
   "source": [
    "#null model"
   ]
  },
  {
   "cell_type": "code",
   "execution_count": 150,
   "metadata": {},
   "outputs": [
    {
     "data": {
      "text/plain": [
       "[1,\n",
       " 4.705926380304369e-05,\n",
       " 4.8603859921886445e-06,\n",
       " 1.3707824030185393e-06,\n",
       " 8.771727769140804e-07,\n",
       " 2.943103409047972e-07,\n",
       " 2.0976466843990986e-07,\n",
       " 1.6914847038414298e-07,\n",
       " 1.1161044328998349e-07]"
      ]
     },
     "execution_count": 150,
     "metadata": {},
     "output_type": "execute_result"
    }
   ],
   "source": [
    "[1]+list((((100*1/np.array(range(1,50))*h1)/sum(100*1/np.array(range(1,50))*h1))[:9] /2 )[1:])"
   ]
  },
  {
   "cell_type": "code",
   "execution_count": 146,
   "metadata": {},
   "outputs": [
    {
     "data": {
      "text/plain": [
       "Text(0.5, 1.0, 'Estimated probability of a thread of length k')"
      ]
     },
     "execution_count": 146,
     "metadata": {},
     "output_type": "execute_result"
    },
    {
     "data": {
      "image/png": "[encoded data removed]",
      "text/plain": [
       "<Figure size 432x288 with 1 Axes>"
      ]
     },
     "metadata": {
      "needs_background": "light"
     },
     "output_type": "display_data"
    }
   ],
   "source": [
    "#number log\n",
    "\n",
    "fig, axes = plt.subplots(1,1, figsize= (6,4))\n",
    "\n",
    "width = 0.4\n",
    "\n",
    "\n",
    "plt.plot(np.array(range(1,10)),((100*1/np.array(range(1,50))*h1)/sum(100*1/np.array(range(1,50))*h1))[:9] , color = 'tab:red', label = 'Jan-Oct 2017')\n",
    "plt.plot(np.array(range(1,10)),((100*1/np.array(range(1,50))*h2)/sum(100*1/np.array(range(1,50))*h2))[:9] ,  color = 'tab:blue', label = 'Jan-Oct 2019')\n",
    "\n",
    "\n",
    "plt.plot(np.array(range(1,10)),[1]+list((((100*1/np.array(range(1,50))*h1)/sum(100*1/np.array(range(1,50))*h1))[:9] /2 )[1:]), color = 'black')\n",
    "plt.legend()\n",
    "\n",
    "plt.plot(np.array(range(1,10)),((100*1/np.array(range(1,50))*h1)/sum(100*1/np.array(range(1,50))*h1))[:9] , color = 'tab:red', label = 'Jan-Oct 2017', marker = 'x', linestyle = 'none')\n",
    "plt.plot(np.array(range(1,10)),((100*1/np.array(range(1,50))*h2)/sum(100*1/np.array(range(1,50))*h2))[:9] ,  color = 'tab:blue', label = 'Jan-Oct 2019', marker = 'o', linestyle = 'none')\n",
    "\n",
    "\n",
    "\n",
    "plt.xticks(list(range(1,10)));\n",
    "\n",
    "plt.xlim([0,9.5])\n",
    "plt.yscale('log', basey=10)\n",
    "\n",
    "plt.ylim([0.0000001,2])\n",
    "\n",
    "\n",
    "plt.xlabel('thread length k')\n",
    "\n",
    "\n",
    "plt.title('Estimated probability of a thread of length k')\n",
    "\n",
    "\n",
    "#plt.yticks([np.exp2(i) for i in range(7,34)]);\n",
    "\n"
   ]
  },
  {
   "cell_type": "code",
   "execution_count": 62,
   "metadata": {},
   "outputs": [],
   "source": [
    "#problem: different total number of tweets (sum of \n",
    "#blue is slightly greater because twitter is growing)"
   ]
  },
  {
   "cell_type": "code",
   "execution_count": 63,
   "metadata": {},
   "outputs": [],
   "source": [
    "#normalized"
   ]
  },
  {
   "cell_type": "code",
   "execution_count": null,
   "metadata": {},
   "outputs": [],
   "source": []
  },
  {
   "cell_type": "code",
   "execution_count": null,
   "metadata": {},
   "outputs": [],
   "source": []
  },
  {
   "cell_type": "code",
   "execution_count": null,
   "metadata": {},
   "outputs": [],
   "source": []
  }
 ],
 "metadata": {
  "kernelspec": {
   "display_name": "Python 3",
   "language": "python",
   "name": "python3"
  },
  "language_info": {
   "codemirror_mode": {
    "name": "ipython",
    "version": 3
   },
   "file_extension": ".py",
   "mimetype": "text/x-python",
   "name": "python",
   "nbconvert_exporter": "python",
   "pygments_lexer": "ipython3",
   "version": "3.7.7"
  }
 },
 "nbformat": 4,
 "nbformat_minor": 4
}
