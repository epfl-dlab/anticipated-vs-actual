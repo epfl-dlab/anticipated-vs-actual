{
 "cells": [
  {
   "cell_type": "code",
   "execution_count": 1,
   "metadata": {},
   "outputs": [],
   "source": [
    "import pandas as pd\n",
    "import json\n",
    "import  tarfile\n",
    "import bz2\n",
    "import os\n",
    "from nltk.tokenize import TweetTokenizer\n",
    "import matplotlib.pyplot as plt\n",
    "import numpy as np\n",
    "import seaborn as sns\n",
    "from collections import Counter\n",
    "from sklearn.feature_extraction.text import CountVectorizer\n",
    "from nltk import agreement\n",
    "import statsmodels.formula.api as smf\n",
    "sns.set_style('whitegrid')\n",
    "%matplotlib inline\n",
    "import random\n",
    "import math\n",
    "\n",
    "import multiprocessing\n",
    "import json\n",
    "import os\n",
    "import re\n",
    "import datetime\n",
    "import time\n",
    "import pprint\n",
    "from datetime import datetime\n",
    "from datetime import timedelta\n",
    "import pytz\n",
    "import glob\n",
    "from random import sample\n",
    "import pickle\n",
    "from datetime import date, timedelta"
   ]
  },
  {
   "cell_type": "code",
   "execution_count": 2,
   "metadata": {},
   "outputs": [],
   "source": [
    "files = []\n",
    "for i in range(40):\n",
    "    files.append(\"derived_dataset/lengths_derived_dataset_batch_\"+str(i+1)+\".parquet\")"
   ]
  },
  {
   "cell_type": "code",
   "execution_count": 3,
   "metadata": {},
   "outputs": [],
   "source": [
    "def process_batch(file):\n",
    "    df = pd.read_parquet(file)\n",
    "    d = datetime(2019, 11, 1,0,0,0)\n",
    "    \n",
    "    df_stats = {}\n",
    "    df_stats['lang'] = df['lang'].value_counts()\n",
    "    df_stats['source'] = df['source'].value_counts()\n",
    "    df_stats['user_n_tweets'] = df['user_n_tweets'].value_counts()\n",
    "    df_stats['user_n_followers'] = df['user_n_followers'].value_counts()\n",
    "    df_stats['user_n_following'] = df['user_n_following'].value_counts()\n",
    "    df_stats['user_age_weeks'] = pd.DataFrame((pd.DataFrame([d]*len(df)).values[0] - df['user_created_at'].values))\\\n",
    "    [0].apply(lambda x: math.floor(x.days/7)).value_counts()\n",
    "\n",
    "    return df_stats"
   ]
  },
  {
   "cell_type": "code",
   "execution_count": 4,
   "metadata": {},
   "outputs": [
    {
     "name": "stdout",
     "output_type": "stream",
     "text": [
      "Parallelized on number of cores: 48\n",
      "Elapsed time: 00:20:57\n"
     ]
    }
   ],
   "source": [
    "p = multiprocessing.Pool(10)\n",
    "print('Parallelized on number of cores:',multiprocessing.cpu_count())\n",
    "\n",
    "start = time.time()\n",
    "\n",
    "output = p.map(process_batch, files)\n",
    "\n",
    "p.close()\n",
    "p.join()\n",
    "\n",
    "end = time.time()\n",
    "elapsed = end - start\n",
    "\n",
    "print('Elapsed time:',time.strftime(\"%H:%M:%S\", time.gmtime(elapsed)))"
   ]
  },
  {
   "cell_type": "code",
   "execution_count": 6,
   "metadata": {},
   "outputs": [],
   "source": [
    "stats_dict = {}\n",
    "\n",
    "for item in output:\n",
    "    for cnt,d in enumerate(item.keys()):\n",
    "        if d not in stats_dict.keys():\n",
    "            stats_dict[d] = item[d]\n",
    "        else:\n",
    "            stats_dict[d] = stats_dict[d].add(item[d], fill_value=0)"
   ]
  },
  {
   "cell_type": "code",
   "execution_count": 7,
   "metadata": {},
   "outputs": [],
   "source": [
    "df_stats = pd.DataFrame(stats_dict).T"
   ]
  },
  {
   "cell_type": "code",
   "execution_count": null,
   "metadata": {},
   "outputs": [],
   "source": []
  },
  {
   "cell_type": "markdown",
   "metadata": {},
   "source": [
    "### Make histograms"
   ]
  },
  {
   "cell_type": "code",
   "execution_count": 9,
   "metadata": {},
   "outputs": [],
   "source": [
    "mapping_lang_codes = {}\n",
    "mapping_lang_codes['ja'] = 'Japanese'\n",
    "mapping_lang_codes['en'] = 'English'\n",
    "mapping_lang_codes['pt'] = 'Portuguese'\n",
    "mapping_lang_codes['es'] = 'Spanish'\n",
    "mapping_lang_codes['ar'] = 'Arabic'\n",
    "mapping_lang_codes['ko'] = 'Korean'\n",
    "mapping_lang_codes['in'] = 'Indonesian'\n",
    "mapping_lang_codes['tl'] = 'Tagalog'\n",
    "mapping_lang_codes['tr'] = 'Turkish'\n",
    "mapping_lang_codes['fr'] = 'French'\n",
    "mapping_lang_codes['th'] = 'Thai'\n",
    "mapping_lang_codes['ru'] = 'Russian'\n",
    "mapping_lang_codes['it'] = 'Italian'\n",
    "mapping_lang_codes['de'] = 'German'\n",
    "mapping_lang_codes['pl'] = 'Polish'\n",
    "mapping_lang_codes['hi'] = 'Hindi'\n",
    "mapping_lang_codes['fa'] = 'Persian'\n",
    "mapping_lang_codes['nl'] = 'Dutch'\n",
    "mapping_lang_codes['ht'] = 'Haitian Creole'\n",
    "mapping_lang_codes['et'] = 'Estonian'\n",
    "mapping_lang_codes['zh'] = 'Chinese'\n",
    "mapping_lang_codes['ur'] = 'Urdu'\n",
    "mapping_lang_codes['sv'] = 'Swedish'"
   ]
  },
  {
   "cell_type": "code",
   "execution_count": 98,
   "metadata": {},
   "outputs": [],
   "source": [
    "cs = ['tab:blue',\n",
    " 'tab:orange',\n",
    " 'tab:orange',\n",
    " 'tab:orange',\n",
    " 'tab:orange',\n",
    " 'tab:blue',\n",
    " 'tab:orange',\n",
    " 'tab:orange',\n",
    " 'tab:orange',\n",
    " 'tab:orange',\n",
    " 'tab:orange',\n",
    " 'tab:orange',\n",
    " 'tab:orange',\n",
    " 'tab:orange',\n",
    " 'tab:orange',\n",
    " 'tab:orange',\n",
    " 'tab:orange',\n",
    " 'tab:orange',\n",
    " 'tab:orange',\n",
    " 'tab:orange',\n",
    " 'tab:blue',\n",
    " 'tab:orange',\n",
    " 'tab:orange']"
   ]
  },
  {
   "cell_type": "code",
   "execution_count": 99,
   "metadata": {},
   "outputs": [
    {
     "data": {
      "text/plain": [
       "23"
      ]
     },
     "execution_count": 99,
     "metadata": {},
     "output_type": "execute_result"
    }
   ],
   "source": [
    "len(cs)"
   ]
  },
  {
   "cell_type": "code",
   "execution_count": 100,
   "metadata": {},
   "outputs": [
    {
     "data": {
      "image/png": "[encoded data removed]",
      "text/plain": [
       "<Figure size 72x504 with 1 Axes>"
      ]
     },
     "metadata": {
      "needs_background": "light"
     },
     "output_type": "display_data"
    }
   ],
   "source": [
    "fig,ax = plt.subplots(1,1,figsize= (1,7))\n",
    "\n",
    "plt.barh(range(23),stats_dict['lang'].loc[stats_dict['lang'].index!='und'].sort_values(ascending = True)[-23:].values, color = cs[::-1])\n",
    "plt.yticks(range(23),\n",
    "           [mapping_lang_codes[i] for i in stats_dict['lang'].\\\n",
    "            loc[stats_dict['lang'].index!='und'].\\\n",
    "            sort_values(ascending = True)[-23:].index], rotation = 0)\n",
    "plt.xscale('log')\n",
    "plt.xticks([1000000,10000000,100000000,100000000],['1M','10M','100M'], rotation = 90)\n",
    "plt.ylabel('language')\n",
    "plt.xlabel('number of tweets')\n",
    "\n",
    "plt.title('Distribution of tweets\\nacross languages')\n",
    "\n",
    "\n",
    "plt.savefig(\"langs.pdf\", bbox_inches='tight')"
   ]
  },
  {
   "cell_type": "code",
   "execution_count": 218,
   "metadata": {},
   "outputs": [],
   "source": [
    "list_languages = list({k: v for k, v in sorted(mapping_lang_codes.items(),\n",
    "                                               key=lambda item: item[1])}.keys())"
   ]
  },
  {
   "cell_type": "code",
   "execution_count": 219,
   "metadata": {},
   "outputs": [
    {
     "data": {
      "text/plain": [
       "['ar',\n",
       " 'zh',\n",
       " 'nl',\n",
       " 'en',\n",
       " 'et',\n",
       " 'fr',\n",
       " 'de',\n",
       " 'ht',\n",
       " 'hi',\n",
       " 'in',\n",
       " 'it',\n",
       " 'ja',\n",
       " 'ko',\n",
       " 'fa',\n",
       " 'pl',\n",
       " 'pt',\n",
       " 'ru',\n",
       " 'es',\n",
       " 'sv',\n",
       " 'tl',\n",
       " 'th',\n",
       " 'tr',\n",
       " 'ur']"
      ]
     },
     "execution_count": 219,
     "metadata": {},
     "output_type": "execute_result"
    }
   ],
   "source": [
    "list_languages"
   ]
  },
  {
   "cell_type": "markdown",
   "metadata": {},
   "source": [
    "### Source interpretation:\n",
    "\n",
    "1. Mobile:\n",
    "\n",
    "    1. \">Twitter for iPhone<\"\n",
    "    <a href=\"http://twitter.com/download/iphone\" rel=\"nofollow\">Twitter for iPhone</a>\n",
    "    2. \">Twitter for Android<\"\n",
    "    <a href=\"http://twitter.com/download/android\" rel=\"nofollow\">Twitter for Android</a>\n",
    "    3. \">Twitter for iPad<\"\n",
    "    <a href=\"http://twitter.com/#!/download/ipad\" rel=\"nofollow\">Twitter for iPad</a>\n",
    "    4. \">Mobile Web (M2)<\"\n",
    "    <a href=\"https://mobile.twitter.com\" rel=\"nofollow\">Mobile Web (M2)</a>\n",
    "\n",
    "2. Web client:\n",
    "    \">Twitter Web Client<\"\n",
    "    <a href=\"http://twitter.com\" rel=\"nofollow\">Twitter Web Client</a>\n",
    "\n",
    "\n",
    "3. Third part applications and automated sources\n",
    "    Everything else\n"
   ]
  },
  {
   "cell_type": "code",
   "execution_count": 188,
   "metadata": {},
   "outputs": [],
   "source": [
    "mobile = stats_dict['source']['<a href=\"http://twitter.com/download/iphone\" rel=\"nofollow\">Twitter for iPhone</a>']\n",
    "+ stats_dict['source']['<a href=\"http://twitter.com/download/android\" rel=\"nofollow\">Twitter for Android</a>']\n",
    "+ stats_dict['source']['<a href=\"http://twitter.com/#!/download/ipad\" rel=\"nofollow\">Twitter for iPad</a>']\n",
    "+ stats_dict['source']['<a href=\"https://mobile.twitter.com\" rel=\"nofollow\">Mobile Web (M2)</a>']\n",
    "\n",
    "web = stats_dict['source']['<a href=\"http://twitter.com\" rel=\"nofollow\">Twitter Web Client</a>']\n",
    "\n",
    "automated_sources = stats_dict['source'].sum() - (mobile + web)\n"
   ]
  },
  {
   "cell_type": "code",
   "execution_count": 193,
   "metadata": {},
   "outputs": [
    {
     "data": {
      "text/plain": [
       "Text(0, 0.5, 'Number of tweets')"
      ]
     },
     "execution_count": 193,
     "metadata": {},
     "output_type": "execute_result"
    },
    {
     "data": {
      "image/png": "[encoded data removed]",
      "text/plain": [
       "<Figure size 432x288 with 1 Axes>"
      ]
     },
     "metadata": {
      "needs_background": "light"
     },
     "output_type": "display_data"
    }
   ],
   "source": [
    "plt.bar(range(3),[automated_sources,mobile,web])\n",
    "plt.xticks(range(3),['Automated sources and \\nthird-party applications','Mobile','Web'])\n",
    "plt.yticks([10000000,500000000,1000000000],['10M','500M','1B'])\n",
    "plt.xlabel('source')\n",
    "plt.ylabel('Number of tweets')"
   ]
  },
  {
   "cell_type": "code",
   "execution_count": 195,
   "metadata": {},
   "outputs": [
    {
     "data": {
      "text/plain": [
       "Text(0, 0.5, 'number of tweets posted by such users')"
      ]
     },
     "execution_count": 195,
     "metadata": {},
     "output_type": "execute_result"
    },
    {
     "data": {
      "image/png": "[encoded data removed]",
      "text/plain": [
       "<Figure size 432x288 with 1 Axes>"
      ]
     },
     "metadata": {
      "needs_background": "light"
     },
     "output_type": "display_data"
    }
   ],
   "source": [
    "n_tweets = stats_dict['user_n_tweets'].groupby(pd.cut(stats_dict['user_n_tweets'].index,\n",
    "                                           [0,100,1000,10000,100000,1000000])).sum()\n",
    "plt.bar(range(5),n_tweets.values)\n",
    "plt.xticks(range(5),n_tweets.index, rotation = 45)\n",
    "plt.yticks([10000000,500000000,1000000000],['10M','500M','1B'])\n",
    "plt.xlabel('user\\'s number of posted tweets')\n",
    "plt.ylabel('number of tweets posted by such users')"
   ]
  },
  {
   "cell_type": "code",
   "execution_count": 63,
   "metadata": {},
   "outputs": [
    {
     "data": {
      "text/plain": [
       "[1.0,\n",
       " 2.718281828459045,\n",
       " 7.38905609893065,\n",
       " 20.085536923187668,\n",
       " 54.598150033144236,\n",
       " 148.4131591025766,\n",
       " 403.4287934927351,\n",
       " 1096.6331584284585,\n",
       " 2980.9579870417283,\n",
       " 8103.083927575384]"
      ]
     },
     "execution_count": 63,
     "metadata": {},
     "output_type": "execute_result"
    }
   ],
   "source": [
    "[math.exp(i) for i in range(10)]"
   ]
  },
  {
   "cell_type": "code",
   "execution_count": 65,
   "metadata": {},
   "outputs": [],
   "source": [
    "bins = [1.0,\n",
    " 3,\n",
    " 7,\n",
    " 20,\n",
    " 55,\n",
    " 148,\n",
    " 403,\n",
    " 1097,\n",
    " 2981,\n",
    " 8103]"
   ]
  },
  {
   "cell_type": "code",
   "execution_count": 67,
   "metadata": {},
   "outputs": [
    {
     "data": {
      "text/plain": [
       "10"
      ]
     },
     "execution_count": 67,
     "metadata": {},
     "output_type": "execute_result"
    }
   ],
   "source": [
    "len(bins)"
   ]
  },
  {
   "cell_type": "code",
   "execution_count": 71,
   "metadata": {},
   "outputs": [
    {
     "data": {
      "text/plain": [
       "Text(0, 0.5, 'number of tweets posted by such users')"
      ]
     },
     "execution_count": 71,
     "metadata": {},
     "output_type": "execute_result"
    },
    {
     "data": {
      "image/png": "[encoded data removed]",
      "text/plain": [
       "<Figure size 432x288 with 1 Axes>"
      ]
     },
     "metadata": {
      "needs_background": "light"
     },
     "output_type": "display_data"
    }
   ],
   "source": [
    "n_tweets = stats_dict['user_n_followers'].groupby(pd.cut(stats_dict['user_n_followers'].index,\n",
    "                                           [1.0,\n",
    " 3,\n",
    " 7,\n",
    " 20,\n",
    " 55,\n",
    " 148,\n",
    " 403,\n",
    " 1097,\n",
    " 2981,\n",
    " 8103,10000000000])).sum()\n",
    "plt.bar(range(10),n_tweets.values)\n",
    "plt.xticks(range(10),n_tweets.index, rotation = 45)\n",
    "#plt.yticks([10000000,500000000,1000000000],['10M','500M','1B'])\n",
    "plt.xlabel('user\\'s number of followers')\n",
    "plt.ylabel('number of tweets posted by such users')"
   ]
  },
  {
   "cell_type": "code",
   "execution_count": 197,
   "metadata": {},
   "outputs": [
    {
     "data": {
      "text/plain": [
       "Text(0, 0.5, 'number of tweets posted by such users')"
      ]
     },
     "execution_count": 197,
     "metadata": {},
     "output_type": "execute_result"
    },
    {
     "data": {
      "image/png": "[encoded data removed]",
      "text/plain": [
       "<Figure size 432x288 with 1 Axes>"
      ]
     },
     "metadata": {
      "needs_background": "light"
     },
     "output_type": "display_data"
    }
   ],
   "source": [
    "n_tweets = stats_dict['user_n_following'].groupby(pd.cut(stats_dict['user_n_following'].index,\n",
    "                                           [0,10,100,1000,10000,10000000])).sum()\n",
    "plt.bar(range(5),n_tweets.values)\n",
    "plt.xticks(range(5),n_tweets.index, rotation = 45)\n",
    "plt.yticks([10000000,500000000,1000000000],['10M','500M','1B'])\n",
    "plt.xlabel('user\\'s number of following')\n",
    "plt.ylabel('number of tweets posted by such users')"
   ]
  },
  {
   "cell_type": "code",
   "execution_count": 203,
   "metadata": {},
   "outputs": [
    {
     "data": {
      "text/plain": [
       "Text(0, 0.5, 'number of tweets posted by such users')"
      ]
     },
     "execution_count": 203,
     "metadata": {},
     "output_type": "execute_result"
    },
    {
     "data": {
      "image/png": "[encoded data removed]",
      "text/plain": [
       "<Figure size 432x288 with 1 Axes>"
      ]
     },
     "metadata": {
      "needs_background": "light"
     },
     "output_type": "display_data"
    }
   ],
   "source": [
    "\n",
    "\n",
    "n_tweets = stats_dict['user_age_weeks'].groupby(pd.cut(stats_dict['user_age_weeks'].index,\n",
    "                                           np.array(range(14))*52)).sum()\n",
    "plt.bar(range(len(n_tweets)),n_tweets.values)\n",
    "plt.xticks(range(len(n_tweets)))\n",
    "plt.yticks([10000000,100000000,200000000],['10M','100M','200M'])\n",
    "plt.xlabel('user\\'s age in years, as of Nov 2019')\n",
    "plt.ylabel('number of tweets posted by such users')\n",
    "\n",
    "\n"
   ]
  },
  {
   "cell_type": "code",
   "execution_count": null,
   "metadata": {},
   "outputs": [],
   "source": []
  },
  {
   "cell_type": "code",
   "execution_count": null,
   "metadata": {},
   "outputs": [],
   "source": []
  },
  {
   "cell_type": "code",
   "execution_count": null,
   "metadata": {},
   "outputs": [],
   "source": []
  }
 ],
 "metadata": {
  "kernelspec": {
   "display_name": "Python 3",
   "language": "python",
   "name": "python3"
  },
  "language_info": {
   "codemirror_mode": {
    "name": "ipython",
    "version": 3
   },
   "file_extension": ".py",
   "mimetype": "text/x-python",
   "name": "python",
   "nbconvert_exporter": "python",
   "pygments_lexer": "ipython3",
   "version": "3.7.7"
  }
 },
 "nbformat": 4,
 "nbformat_minor": 4
}
